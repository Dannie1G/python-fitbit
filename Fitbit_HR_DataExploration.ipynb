{
 "cells": [
  {
   "cell_type": "markdown",
   "metadata": {},
   "source": [
    "# In the land of intraday heart rate analysis\n",
    "- Used the fitbit API to collect personal data <br>\n",
    "<br> Analysis inspired by: https://medium.com/@shsu14/what-i-learned-from-analyzing-my-fitbit-data-61125d85af40"
   ]
  },
  {
   "cell_type": "code",
   "execution_count": 1,
   "metadata": {},
   "outputs": [],
   "source": [
    "import pandas as pd\n",
    "import numpy as np\n",
    "import matplotlib.pyplot as plt\n",
    "import seaborn as sns\n",
    "import os\n",
    "import datetime\n",
    "\n",
    "%matplotlib inline"
   ]
  },
  {
   "cell_type": "code",
   "execution_count": 2,
   "metadata": {},
   "outputs": [],
   "source": [
    "# define function to read files and add date components\n",
    "def read_files_from_path(path):\n",
    "    dflist = []\n",
    "    my_dir = os.listdir(path)\n",
    "    csvs = [d for d in my_dir if d[-4:] == '.csv']\n",
    "    for c in csvs:\n",
    "        df = pd.read_csv(path+c, index_col=None, header=0)\n",
    "        df['date'] = c[-12:-4]\n",
    "        year, month, day = int(c[-12:-8]), int(c[-8:-6]), int(c[-6:-4])\n",
    "        df['year'] = year\n",
    "        df['month'] = month\n",
    "        df['day'] = day\n",
    "        df['DOW'] = datetime.date(year, month, day).strftime('%A')\n",
    "        df['DOW'] = pd.Categorical(df['DOW'],\n",
    "                                  categories=['Monday', 'Tuesday', 'Wednesday', 'Thursday',\n",
    "                                              'Friday', 'Saturday', 'Sunday'],\n",
    "                                  ordered=True)\n",
    "        dflist.append(df)\n",
    "    frame = pd.concat(dflist)\n",
    "    return frame"
   ]
  },
  {
   "cell_type": "code",
   "execution_count": 3,
   "metadata": {},
   "outputs": [],
   "source": [
    "df = read_files_from_path('/Users/dannie/Documents/programming/github/dannie1g/fitbit/python-fitbit-master/downloads/heart/')"
   ]
  },
  {
   "cell_type": "code",
   "execution_count": 4,
   "metadata": {},
   "outputs": [
    {
     "data": {
      "text/html": [
       "<div>\n",
       "<style scoped>\n",
       "    .dataframe tbody tr th:only-of-type {\n",
       "        vertical-align: middle;\n",
       "    }\n",
       "\n",
       "    .dataframe tbody tr th {\n",
       "        vertical-align: top;\n",
       "    }\n",
       "\n",
       "    .dataframe thead th {\n",
       "        text-align: right;\n",
       "    }\n",
       "</style>\n",
       "<table border=\"1\" class=\"dataframe\">\n",
       "  <thead>\n",
       "    <tr style=\"text-align: right;\">\n",
       "      <th></th>\n",
       "      <th>Time</th>\n",
       "      <th>Heart Rate</th>\n",
       "      <th>date</th>\n",
       "      <th>year</th>\n",
       "      <th>month</th>\n",
       "      <th>day</th>\n",
       "      <th>DOW</th>\n",
       "    </tr>\n",
       "  </thead>\n",
       "  <tbody>\n",
       "    <tr>\n",
       "      <th>36419</th>\n",
       "      <td>23:58:47</td>\n",
       "      <td>58</td>\n",
       "      <td>20180420</td>\n",
       "      <td>2018</td>\n",
       "      <td>4</td>\n",
       "      <td>20</td>\n",
       "      <td>Friday</td>\n",
       "    </tr>\n",
       "    <tr>\n",
       "      <th>36420</th>\n",
       "      <td>23:58:49</td>\n",
       "      <td>57</td>\n",
       "      <td>20180420</td>\n",
       "      <td>2018</td>\n",
       "      <td>4</td>\n",
       "      <td>20</td>\n",
       "      <td>Friday</td>\n",
       "    </tr>\n",
       "    <tr>\n",
       "      <th>36421</th>\n",
       "      <td>23:58:51</td>\n",
       "      <td>57</td>\n",
       "      <td>20180420</td>\n",
       "      <td>2018</td>\n",
       "      <td>4</td>\n",
       "      <td>20</td>\n",
       "      <td>Friday</td>\n",
       "    </tr>\n",
       "    <tr>\n",
       "      <th>36422</th>\n",
       "      <td>23:58:54</td>\n",
       "      <td>57</td>\n",
       "      <td>20180420</td>\n",
       "      <td>2018</td>\n",
       "      <td>4</td>\n",
       "      <td>20</td>\n",
       "      <td>Friday</td>\n",
       "    </tr>\n",
       "    <tr>\n",
       "      <th>36423</th>\n",
       "      <td>23:58:57</td>\n",
       "      <td>57</td>\n",
       "      <td>20180420</td>\n",
       "      <td>2018</td>\n",
       "      <td>4</td>\n",
       "      <td>20</td>\n",
       "      <td>Friday</td>\n",
       "    </tr>\n",
       "  </tbody>\n",
       "</table>\n",
       "</div>"
      ],
      "text/plain": [
       "           Time  Heart Rate      date  year  month  day     DOW\n",
       "36419  23:58:47          58  20180420  2018      4   20  Friday\n",
       "36420  23:58:49          57  20180420  2018      4   20  Friday\n",
       "36421  23:58:51          57  20180420  2018      4   20  Friday\n",
       "36422  23:58:54          57  20180420  2018      4   20  Friday\n",
       "36423  23:58:57          57  20180420  2018      4   20  Friday"
      ]
     },
     "execution_count": 4,
     "metadata": {},
     "output_type": "execute_result"
    }
   ],
   "source": [
    "df.tail()"
   ]
  },
  {
   "cell_type": "code",
   "execution_count": 5,
   "metadata": {},
   "outputs": [
    {
     "data": {
      "text/html": [
       "<div>\n",
       "<style scoped>\n",
       "    .dataframe tbody tr th:only-of-type {\n",
       "        vertical-align: middle;\n",
       "    }\n",
       "\n",
       "    .dataframe tbody tr th {\n",
       "        vertical-align: top;\n",
       "    }\n",
       "\n",
       "    .dataframe thead th {\n",
       "        text-align: right;\n",
       "    }\n",
       "</style>\n",
       "<table border=\"1\" class=\"dataframe\">\n",
       "  <thead>\n",
       "    <tr style=\"text-align: right;\">\n",
       "      <th></th>\n",
       "      <th>Time</th>\n",
       "      <th>Heart Rate</th>\n",
       "      <th>date</th>\n",
       "      <th>year</th>\n",
       "      <th>month</th>\n",
       "      <th>day</th>\n",
       "      <th>DOW</th>\n",
       "    </tr>\n",
       "  </thead>\n",
       "  <tbody>\n",
       "    <tr>\n",
       "      <th>0</th>\n",
       "      <td>00:00:00</td>\n",
       "      <td>50</td>\n",
       "      <td>20180417</td>\n",
       "      <td>2018</td>\n",
       "      <td>4</td>\n",
       "      <td>17</td>\n",
       "      <td>Tuesday</td>\n",
       "    </tr>\n",
       "    <tr>\n",
       "      <th>1</th>\n",
       "      <td>00:00:03</td>\n",
       "      <td>56</td>\n",
       "      <td>20180417</td>\n",
       "      <td>2018</td>\n",
       "      <td>4</td>\n",
       "      <td>17</td>\n",
       "      <td>Tuesday</td>\n",
       "    </tr>\n",
       "    <tr>\n",
       "      <th>2</th>\n",
       "      <td>00:00:04</td>\n",
       "      <td>56</td>\n",
       "      <td>20180417</td>\n",
       "      <td>2018</td>\n",
       "      <td>4</td>\n",
       "      <td>17</td>\n",
       "      <td>Tuesday</td>\n",
       "    </tr>\n",
       "    <tr>\n",
       "      <th>3</th>\n",
       "      <td>00:00:07</td>\n",
       "      <td>56</td>\n",
       "      <td>20180417</td>\n",
       "      <td>2018</td>\n",
       "      <td>4</td>\n",
       "      <td>17</td>\n",
       "      <td>Tuesday</td>\n",
       "    </tr>\n",
       "    <tr>\n",
       "      <th>4</th>\n",
       "      <td>00:00:10</td>\n",
       "      <td>56</td>\n",
       "      <td>20180417</td>\n",
       "      <td>2018</td>\n",
       "      <td>4</td>\n",
       "      <td>17</td>\n",
       "      <td>Tuesday</td>\n",
       "    </tr>\n",
       "  </tbody>\n",
       "</table>\n",
       "</div>"
      ],
      "text/plain": [
       "       Time  Heart Rate      date  year  month  day      DOW\n",
       "0  00:00:00          50  20180417  2018      4   17  Tuesday\n",
       "1  00:00:03          56  20180417  2018      4   17  Tuesday\n",
       "2  00:00:04          56  20180417  2018      4   17  Tuesday\n",
       "3  00:00:07          56  20180417  2018      4   17  Tuesday\n",
       "4  00:00:10          56  20180417  2018      4   17  Tuesday"
      ]
     },
     "execution_count": 5,
     "metadata": {},
     "output_type": "execute_result"
    }
   ],
   "source": [
    "df.head()"
   ]
  },
  {
   "cell_type": "code",
   "execution_count": 6,
   "metadata": {},
   "outputs": [],
   "source": [
    "# split time column into hr:min and hr columns\n",
    "df['hr:min'] = df['Time'].str.slice(start=0, stop=5)\n",
    "df['hr'] = df['Time'].str.slice(start=0, stop=2)"
   ]
  },
  {
   "cell_type": "code",
   "execution_count": 7,
   "metadata": {},
   "outputs": [
    {
     "data": {
      "text/html": [
       "<div>\n",
       "<style scoped>\n",
       "    .dataframe tbody tr th:only-of-type {\n",
       "        vertical-align: middle;\n",
       "    }\n",
       "\n",
       "    .dataframe tbody tr th {\n",
       "        vertical-align: top;\n",
       "    }\n",
       "\n",
       "    .dataframe thead th {\n",
       "        text-align: right;\n",
       "    }\n",
       "</style>\n",
       "<table border=\"1\" class=\"dataframe\">\n",
       "  <thead>\n",
       "    <tr style=\"text-align: right;\">\n",
       "      <th></th>\n",
       "      <th>Time</th>\n",
       "      <th>Heart Rate</th>\n",
       "      <th>date</th>\n",
       "      <th>year</th>\n",
       "      <th>month</th>\n",
       "      <th>day</th>\n",
       "      <th>DOW</th>\n",
       "      <th>hr:min</th>\n",
       "      <th>hr</th>\n",
       "    </tr>\n",
       "  </thead>\n",
       "  <tbody>\n",
       "    <tr>\n",
       "      <th>0</th>\n",
       "      <td>00:00:00</td>\n",
       "      <td>50</td>\n",
       "      <td>20180417</td>\n",
       "      <td>2018</td>\n",
       "      <td>4</td>\n",
       "      <td>17</td>\n",
       "      <td>Tuesday</td>\n",
       "      <td>00:00</td>\n",
       "      <td>00</td>\n",
       "    </tr>\n",
       "    <tr>\n",
       "      <th>1</th>\n",
       "      <td>00:00:03</td>\n",
       "      <td>56</td>\n",
       "      <td>20180417</td>\n",
       "      <td>2018</td>\n",
       "      <td>4</td>\n",
       "      <td>17</td>\n",
       "      <td>Tuesday</td>\n",
       "      <td>00:00</td>\n",
       "      <td>00</td>\n",
       "    </tr>\n",
       "    <tr>\n",
       "      <th>2</th>\n",
       "      <td>00:00:04</td>\n",
       "      <td>56</td>\n",
       "      <td>20180417</td>\n",
       "      <td>2018</td>\n",
       "      <td>4</td>\n",
       "      <td>17</td>\n",
       "      <td>Tuesday</td>\n",
       "      <td>00:00</td>\n",
       "      <td>00</td>\n",
       "    </tr>\n",
       "    <tr>\n",
       "      <th>3</th>\n",
       "      <td>00:00:07</td>\n",
       "      <td>56</td>\n",
       "      <td>20180417</td>\n",
       "      <td>2018</td>\n",
       "      <td>4</td>\n",
       "      <td>17</td>\n",
       "      <td>Tuesday</td>\n",
       "      <td>00:00</td>\n",
       "      <td>00</td>\n",
       "    </tr>\n",
       "    <tr>\n",
       "      <th>4</th>\n",
       "      <td>00:00:10</td>\n",
       "      <td>56</td>\n",
       "      <td>20180417</td>\n",
       "      <td>2018</td>\n",
       "      <td>4</td>\n",
       "      <td>17</td>\n",
       "      <td>Tuesday</td>\n",
       "      <td>00:00</td>\n",
       "      <td>00</td>\n",
       "    </tr>\n",
       "  </tbody>\n",
       "</table>\n",
       "</div>"
      ],
      "text/plain": [
       "       Time  Heart Rate      date  year  month  day      DOW hr:min  hr\n",
       "0  00:00:00          50  20180417  2018      4   17  Tuesday  00:00  00\n",
       "1  00:00:03          56  20180417  2018      4   17  Tuesday  00:00  00\n",
       "2  00:00:04          56  20180417  2018      4   17  Tuesday  00:00  00\n",
       "3  00:00:07          56  20180417  2018      4   17  Tuesday  00:00  00\n",
       "4  00:00:10          56  20180417  2018      4   17  Tuesday  00:00  00"
      ]
     },
     "execution_count": 7,
     "metadata": {},
     "output_type": "execute_result"
    }
   ],
   "source": [
    "df.head()"
   ]
  },
  {
   "cell_type": "code",
   "execution_count": 8,
   "metadata": {},
   "outputs": [],
   "source": [
    "# define function to give min, mean, median and max of data\n",
    "def summary_stats(stats_df, col_name):\n",
    "    stats_df = pd.DataFrame({\n",
    "        'Min' : str(np.min(stats_df[col_name])),\n",
    "        'Mean' : str(round(np.mean(stats_df[col_name]), 2)),\n",
    "        'Median' : str(np.median(stats_df[col_name])),\n",
    "        'Max' : str(np.max(stats_df[col_name]))\n",
    "    }, index=[0])\n",
    "    return stats_df"
   ]
  },
  {
   "cell_type": "code",
   "execution_count": 9,
   "metadata": {},
   "outputs": [
    {
     "data": {
      "text/html": [
       "<div>\n",
       "<style scoped>\n",
       "    .dataframe tbody tr th:only-of-type {\n",
       "        vertical-align: middle;\n",
       "    }\n",
       "\n",
       "    .dataframe tbody tr th {\n",
       "        vertical-align: top;\n",
       "    }\n",
       "\n",
       "    .dataframe thead th {\n",
       "        text-align: right;\n",
       "    }\n",
       "</style>\n",
       "<table border=\"1\" class=\"dataframe\">\n",
       "  <thead>\n",
       "    <tr style=\"text-align: right;\">\n",
       "      <th></th>\n",
       "      <th>Max</th>\n",
       "      <th>Mean</th>\n",
       "      <th>Median</th>\n",
       "      <th>Min</th>\n",
       "    </tr>\n",
       "  </thead>\n",
       "  <tbody>\n",
       "    <tr>\n",
       "      <th>0</th>\n",
       "      <td>167</td>\n",
       "      <td>65.98</td>\n",
       "      <td>60.0</td>\n",
       "      <td>41</td>\n",
       "    </tr>\n",
       "  </tbody>\n",
       "</table>\n",
       "</div>"
      ],
      "text/plain": [
       "   Max   Mean Median Min\n",
       "0  167  65.98   60.0  41"
      ]
     },
     "execution_count": 9,
     "metadata": {},
     "output_type": "execute_result"
    }
   ],
   "source": [
    "summary_stats(df, 'Heart Rate')"
   ]
  },
  {
   "cell_type": "code",
   "execution_count": 10,
   "metadata": {
    "scrolled": false
   },
   "outputs": [
    {
     "name": "stderr",
     "output_type": "stream",
     "text": [
      "/Users/dannie/anaconda3/envs/playtime/lib/python3.6/site-packages/matplotlib/cbook/deprecation.py:106: MatplotlibDeprecationWarning: Adding an axes using the same arguments as a previous axes currently reuses the earlier instance.  In a future version, a new instance will always be created and returned.  Meanwhile, this warning can be suppressed, and the future behavior ensured, by passing a unique label to each axes instance.\n",
      "  warnings.warn(message, mplDeprecation, stacklevel=1)\n"
     ]
    },
    {
     "data": {
      "text/plain": [
       "Text(0,0.5,'Counts')"
      ]
     },
     "execution_count": 10,
     "metadata": {},
     "output_type": "execute_result"
    },
    {
     "data": {
      "image/png": "[encoded data removed]",
      "text/plain": [
       "<matplotlib.figure.Figure at 0x12af04a58>"
      ]
     },
     "metadata": {},
     "output_type": "display_data"
    }
   ],
   "source": [
    "HR = df['Heart Rate']\n",
    "plt.figure(figsize=(10, 6))\n",
    "plt.hist(HR, linewidth=2, bins=150, edgecolor='black')\n",
    "\n",
    "ax = plt.subplot(111)\n",
    "ax.spines['top'].set_visible(False)\n",
    "ax.spines['right'].set_visible(False)\n",
    "\n",
    "ax.get_xaxis().tick_bottom()\n",
    "ax.get_yaxis().tick_left()\n",
    "plt.xticks(fontsize=12)\n",
    "plt.yticks(fontsize=12)\n",
    "\n",
    "plt.title('Heart Rate Histogram', fontsize=16)\n",
    "plt.xlabel('Heart Rate', fontsize=12)\n",
    "plt.ylabel('Counts', fontsize=12)"
   ]
  },
  {
   "cell_type": "code",
   "execution_count": 11,
   "metadata": {},
   "outputs": [],
   "source": [
    "hourly_df = df.groupby(by='hr').mean()\n",
    "meanHR = hourly_df['Heart Rate']"
   ]
  },
  {
   "cell_type": "code",
   "execution_count": 12,
   "metadata": {},
   "outputs": [],
   "source": [
    "DOW_df = df.groupby(by='DOW').mean()\n",
    "meanDOW = DOW_df['Heart Rate']"
   ]
  },
  {
   "cell_type": "code",
   "execution_count": 13,
   "metadata": {},
   "outputs": [],
   "source": [
    "meanDOW_np = meanDOW.tolist()"
   ]
  },
  {
   "cell_type": "code",
   "execution_count": 14,
   "metadata": {
    "scrolled": false
   },
   "outputs": [
    {
     "data": {
      "text/plain": [
       "Text(0.5,0,'Day of the Week')"
      ]
     },
     "execution_count": 14,
     "metadata": {},
     "output_type": "execute_result"
    },
    {
     "data": {
      "image/png": "[encoded data removed]",
      "text/plain": [
       "<matplotlib.figure.Figure at 0x11f090550>"
      ]
     },
     "metadata": {},
     "output_type": "display_data"
    }
   ],
   "source": [
    "\n",
    "fig, (ax1, ax2) = plt.subplots(1, 2, sharey=True, figsize=(18,8))\n",
    "\n",
    "ax1.plot(meanHR, linestyle='-', marker='o', markersize=10)\n",
    "\n",
    "ax1.spines[\"top\"].set_visible(False)  \n",
    "ax1.spines[\"right\"].set_visible(False)  \n",
    "ax1.set_ylim([np.min(meanHR)-10, np.max(meanHR)+10])\n",
    "ax1.tick_params(labelsize=12)\n",
    "\n",
    "ax1.set_title('Heart Rate vs. Hour of the Day', fontsize=14)\n",
    "ax1.set(xlabel=meanHR.index.name) \n",
    "ax1.set_xlabel('Hour of the Day', fontsize=12) \n",
    "ax1.set_ylabel('Heart Rate', fontsize=12)\n",
    "\n",
    "\n",
    "\n",
    "ax2.plot(meanDOW_np, linestyle='-', marker='o', markersize=10)\n",
    "\n",
    "ax2.spines[\"top\"].set_visible(False)  \n",
    "ax2.spines[\"right\"].set_visible(False)  \n",
    "ax2.set_ylim([np.min(meanHR)-10, np.max(meanHR)+10])\n",
    "ax2.tick_params(labelsize=12)\n",
    "\n",
    "ax2.set_title('Heart Rate vs. Day of the Week', fontsize=14)\n",
    "\n",
    "ax2.set_xticks(range(0,7,1))\n",
    "ax2.set_xticklabels(DOW_df.index, rotation=90) \n",
    "ax2.set_xlabel('Day of the Week', fontsize=12)"
   ]
  },
  {
   "cell_type": "code",
   "execution_count": 15,
   "metadata": {},
   "outputs": [],
   "source": [
    "df['hr_int'] = df['hr'].astype(int)\n",
    "nine5_df = df[(df['hr_int'] >= 9) & (df['hr_int'] <= 17) & (df['DOW'] != 'Saturday') & (df['DOW'] != 'Sunday')] \n",
    "night_df = df[(df['hr_int'] <= 8) | (df['hr_int'] >= 22)]\n",
    "freetime_df = df[~((df['hr_int'] >= 9) & (df['hr_int'] <= 17) & (df['DOW'] != 'Saturday') & (df['DOW'] != 'Sunday') | ((df['hr_int'] <= 8) | (df['hr_int'] >= 22)))]"
   ]
  },
  {
   "cell_type": "code",
   "execution_count": 16,
   "metadata": {},
   "outputs": [
    {
     "name": "stdout",
     "output_type": "stream",
     "text": [
      "HR 9 to 5 weekdays: 71.61\n",
      "HR night time: 56.94\n",
      "HR free time: 75.74\n"
     ]
    }
   ],
   "source": [
    "print('HR 9 to 5 weekdays: '+str(round(nine5_df['Heart Rate'].mean(),2)))\n",
    "print('HR night time: '+str(round(night_df['Heart Rate'].mean(),2)))\n",
    "print('HR free time: '+str(round(freetime_df['Heart Rate'].mean(),2)))"
   ]
  },
  {
   "cell_type": "code",
   "execution_count": 17,
   "metadata": {},
   "outputs": [
    {
     "name": "stderr",
     "output_type": "stream",
     "text": [
      "/Users/dannie/anaconda3/envs/playtime/lib/python3.6/site-packages/matplotlib/cbook/deprecation.py:106: MatplotlibDeprecationWarning: Adding an axes using the same arguments as a previous axes currently reuses the earlier instance.  In a future version, a new instance will always be created and returned.  Meanwhile, this warning can be suppressed, and the future behavior ensured, by passing a unique label to each axes instance.\n",
      "  warnings.warn(message, mplDeprecation, stacklevel=1)\n"
     ]
    },
    {
     "data": {
      "text/plain": [
       "Text(0.5,0,'Day of the Week')"
      ]
     },
     "execution_count": 17,
     "metadata": {},
     "output_type": "execute_result"
    },
    {
     "data": {
      "text/plain": [
       "<matplotlib.figure.Figure at 0x12af048d0>"
      ]
     },
     "metadata": {},
     "output_type": "display_data"
    },
    {
     "data": {
      "image/png": "[encoded data removed]",
      "text/plain": [
       "<matplotlib.figure.Figure at 0x11f02bc50>"
      ]
     },
     "metadata": {},
     "output_type": "display_data"
    }
   ],
   "source": [
    "plt.figure(figsize = (16,8))\n",
    "freetime_df.boxplot(column = 'Heart Rate', by = 'DOW')\n",
    "\n",
    "ax = plt.subplot(111)  \n",
    "ax.spines[\"top\"].set_visible(False)  \n",
    "ax.spines[\"right\"].set_visible(False) \n",
    "ax.set_ylim([0, 180])\n",
    "plt.xticks(fontsize=12)  \n",
    "plt.yticks(fontsize=12) \n",
    "\n",
    "plt.title('')\n",
    "plt.suptitle('Day of the Week Heart Rate Boxplot')\n",
    "plt.ylabel('Heart Rate')\n",
    "plt.xlabel('Day of the Week')"
   ]
  },
  {
   "cell_type": "code",
   "execution_count": null,
   "metadata": {},
   "outputs": [],
   "source": []
  }
 ],
 "metadata": {
  "kernelspec": {
   "display_name": "Python [conda env:playtime]",
   "language": "python",
   "name": "conda-env-playtime-py"
  },
  "language_info": {
   "codemirror_mode": {
    "name": "ipython",
    "version": 3
   },
   "file_extension": ".py",
   "mimetype": "text/x-python",
   "name": "python",
   "nbconvert_exporter": "python",
   "pygments_lexer": "ipython3",
   "version": "3.6.4"
  }
 },
 "nbformat": 4,
 "nbformat_minor": 2
}
